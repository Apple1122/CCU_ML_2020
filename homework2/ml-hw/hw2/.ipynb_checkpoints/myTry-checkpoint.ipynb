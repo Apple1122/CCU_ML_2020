{
 "cells": [
  {
   "cell_type": "code",
   "execution_count": 2,
   "metadata": {},
   "outputs": [
    {
     "name": "stdout",
     "output_type": "stream",
     "text": [
      "<class 'pandas.core.frame.DataFrame'>\n",
      "RangeIndex: 5600 entries, 0 to 5599\n",
      "Data columns (total 2 columns):\n",
      " #   Column    Non-Null Count  Dtype \n",
      "---  ------    --------------  ----- \n",
      " 0   image_id  5600 non-null   object\n",
      " 1   label     5600 non-null   object\n",
      "dtypes: object(2)\n",
      "memory usage: 87.6+ KB\n",
      "None\n",
      "    image_id label\n",
      "0  00002.jpg     C\n",
      "1  00003.jpg     C\n",
      "2  00004.jpg     B\n",
      "3  00005.jpg     A\n",
      "4  00007.jpg     A\n",
      "-------------------\n",
      "<class 'pandas.core.frame.DataFrame'>\n",
      "RangeIndex: 800 entries, 0 to 799\n",
      "Data columns (total 2 columns):\n",
      " #   Column    Non-Null Count  Dtype \n",
      "---  ------    --------------  ----- \n",
      " 0   image_id  800 non-null    object\n",
      " 1   label     800 non-null    object\n",
      "dtypes: object(2)\n",
      "memory usage: 12.6+ KB\n",
      "None\n",
      "    image_id label\n",
      "0  00027.jpg     B\n",
      "1  00033.jpg     A\n",
      "2  00047.jpg     B\n",
      "3  00050.jpg     B\n",
      "4  00051.jpg     C\n"
     ]
    }
   ],
   "source": [
    "import pandas as pd\n",
    "import numpy as np\n",
    "import os\n",
    "from pandas import Series,DataFrame\n",
    "\n",
    "train_df = pd.read_csv('./C1-P1_Train Dev_fixed/train.csv')\n",
    "dev_df = pd.read_csv('./C1-P1_Train Dev_fixed/dev.csv')\n",
    "print(train_df.info())\n",
    "print(train_df.head())\n",
    "print('-------------------')\n",
    "print(dev_df.info())\n",
    "print(dev_df.head())"
   ]
  },
  {
   "cell_type": "code",
   "execution_count": 3,
   "metadata": {},
   "outputs": [
    {
     "name": "stdout",
     "output_type": "stream",
     "text": [
      "<class 'numpy.ndarray'>\n",
      "(5600,)\n",
      "3\n",
      "{'A': 0, 'C': 1, 'B': 2}\n"
     ]
    }
   ],
   "source": [
    "labels = train_df['label']\n",
    "label_np = Series.to_numpy(labels)\n",
    "print(type(label_np) )\n",
    "print(label_np.shape)   #(5600,)\n",
    "\n",
    "#看一下一共多少不同种类\n",
    "label_set = set(label_np)\n",
    "print(len(label_set))   #3\n",
    "\n",
    "#构建一个编号与名称对应的字典，以后输出的数字要变成名字的时候用：\n",
    "label_list = list(label_set)\n",
    "dic = {}\n",
    "for i in range(3):\n",
    "    dic[  label_list[i]   ] = i\n",
    "print(dic)"
   ]
  },
  {
   "cell_type": "code",
   "execution_count": 4,
   "metadata": {},
   "outputs": [
    {
     "name": "stdout",
     "output_type": "stream",
     "text": [
      "train_df:  (5600,)\n",
      "dev_file:  (800,)\n"
     ]
    }
   ],
   "source": [
    "train_file =  Series.to_numpy(train_df[\"image_id\"])\n",
    "dev_file = Series.to_numpy(dev_df[\"image_id\"])\n",
    "\n",
    "print('train_df: ', train_file.shape)\n",
    "print('dev_file: ', dev_file.shape)\n",
    "\n",
    "# file = [i + \".jpg\" for i in file]\n",
    "file_train = [os.path.join(\"./C1-P1_Train Dev_fixed/C1-P1_Train\", i) for i in train_file ]\n",
    "file_dev = [os.path.join(\"./C1-P1_Train Dev_fixed/C1-P1_Dev\", i) for i in dev_file ]\n",
    "\n",
    "# print(file_train)\n",
    "# print(file_test)\n",
    "\n",
    "np.save( \"file_train.npy\" ,file_train )\n",
    "np.save( \"file_dev.npy\" ,file_dev )"
   ]
  },
  {
   "cell_type": "code",
   "execution_count": 5,
   "metadata": {},
   "outputs": [
    {
     "name": "stdout",
     "output_type": "stream",
     "text": [
      "(5600,)\n",
      "(800,)\n",
      "[1 1 2 ... 0 0 2]\n"
     ]
    }
   ],
   "source": [
    "train_labels = Series.to_numpy(train_df[\"label\"])\n",
    "dev_labels = Series.to_numpy(dev_df[\"label\"])\n",
    "\n",
    "print(train_labels.shape)\n",
    "print(dev_labels.shape)\n",
    "\n",
    "number_train = []\n",
    "number_dev = []\n",
    "\n",
    "for i in range(train_labels.shape[0]):\n",
    "    number_train.append(  dic[ train_labels[i] ]  )\n",
    "    \n",
    "for i in range(dev_labels.shape[0]):\n",
    "    number_dev.append(  dic[ dev_labels[i] ]  )\n",
    "    \n",
    "    \n",
    "number_train = np.array(number_train)\n",
    "number_dev = np.array(number_dev)\n",
    "\n",
    "print(number_train)\n",
    "\n",
    "np.save( \"number_train.npy\" ,number_train )\n",
    "np.save( \"number_dev.npy\" ,number_dev )"
   ]
  },
  {
   "cell_type": "code",
   "execution_count": 6,
   "metadata": {},
   "outputs": [],
   "source": [
    "from torch.utils.data import Dataset, DataLoader\n",
    "from torchvision import transforms, utils\n",
    "\n",
    "normalize = transforms.Normalize(\n",
    "    mean=[0.485, 0.456, 0.406],\n",
    "    std=[0.229, 0.224, 0.225]\n",
    ")\n",
    "preprocess = transforms.Compose([\n",
    "    #transforms.Scale(256),\n",
    "    #transforms.CenterCrop(224),\n",
    "    transforms.ToTensor(),\n",
    "    normalize\n",
    "])\n",
    "\n",
    "def default_loader(path):\n",
    "    img_pil =  Image.open(path)\n",
    "    img_pil = img_pil.resize((224,224))\n",
    "    img_tensor = preprocess(img_pil)\n",
    "    return img_tensor\n",
    "\n",
    "#当然出来的时候已经全都变成了tensor\n",
    "class trainset(Dataset):\n",
    "    def __init__(self, loader=default_loader):\n",
    "        #定义好 image 的路径\n",
    "        self.images = file_train\n",
    "        self.target = number_train\n",
    "        self.loader = loader\n",
    "\n",
    "    def __getitem__(self, index):\n",
    "        fn = self.images[index]\n",
    "        img = self.loader(fn)\n",
    "        target = self.target[index]\n",
    "        return img,target\n",
    "\n",
    "    def __len__(self):\n",
    "        return len(self.images)"
   ]
  },
  {
   "cell_type": "code",
   "execution_count": 7,
   "metadata": {},
   "outputs": [
    {
     "name": "stdout",
     "output_type": "stream",
     "text": [
      "Collecting torchvision\n",
      "  Using cached torchvision-0.6.0-cp37-cp37m-macosx_10_9_x86_64.whl (436 kB)\n",
      "Requirement already satisfied: pillow>=4.1.1 in /usr/local/lib/python3.7/site-packages (from torchvision) (7.1.2)\n",
      "Collecting torch==1.5.0\n",
      "  Using cached torch-1.5.0-cp37-none-macosx_10_9_x86_64.whl (80.5 MB)\n",
      "Requirement already satisfied: numpy in /usr/local/lib/python3.7/site-packages (from torchvision) (1.18.2)\n",
      "Processing /Users/kylehuang/Library/Caches/pip/wheels/56/b0/fe/4410d17b32f1f0c3cf54cdfb2bc04d7b4b8f4ae377e2229ba0/future-0.18.2-py3-none-any.whl\n",
      "Installing collected packages: future, torch, torchvision\n",
      "Successfully installed future-0.18.2 torch-1.5.0 torchvision-0.6.0\n"
     ]
    }
   ],
   "source": [
    "# !pip install torchvision "
   ]
  },
  {
   "cell_type": "code",
   "execution_count": null,
   "metadata": {},
   "outputs": [],
   "source": [
    "train_data  = trainset()\n",
    "trainloader = DataLoader(train_data, batch_size=4,shuffle=True)"
   ]
  }
 ],
 "metadata": {
  "kernelspec": {
   "display_name": ".CCU_ML",
   "language": "python",
   "name": ".ccu_ml"
  },
  "language_info": {
   "codemirror_mode": {
    "name": "ipython",
    "version": 3
   },
   "file_extension": ".py",
   "mimetype": "text/x-python",
   "name": "python",
   "nbconvert_exporter": "python",
   "pygments_lexer": "ipython3",
   "version": "3.7.7"
  }
 },
 "nbformat": 4,
 "nbformat_minor": 4
}
